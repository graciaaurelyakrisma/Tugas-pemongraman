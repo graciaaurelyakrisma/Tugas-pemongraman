{
 "cells": [
  {
   "cell_type": "markdown",
   "metadata": {},
   "source": [
    "* Nama      : Gracia Aurelya Krisma \n",
    "* NIM       : H061241066 \n",
    "* Kelas     : B"
   ]
  },
  {
   "cell_type": "markdown",
   "metadata": {},
   "source": [
    "**Soal 1**: Seorang pelanggan membeli baju di toko. Jika 3 angka terakhir NIM Anda > 600, dia mendapatkan diskon 20%. Jika tidak, diskon 10%. Buat program untuk menghitung total harga."
   ]
  },
  {
   "cell_type": "code",
   "execution_count": 14,
   "metadata": {},
   "outputs": [
    {
     "name": "stdout",
     "output_type": "stream",
     "text": [
      "Diskon yang didapatkan: 10%\n",
      "Jadi total harga setelah diskon: Rp 180000.00\n"
     ]
    }
   ],
   "source": [
    "harga = 200000\n",
    "nim = 66\n",
    "\n",
    "if nim > 600:\n",
    "    diskon = 0.20  \n",
    "else:\n",
    "    diskon = 0.10  \n",
    "\n",
    "total_harga = harga - (harga * diskon)\n",
    "\n",
    "print(f\"Diskon yang didapatkan: {int(diskon * 100)}%\")\n",
    "print(f\"Jadi total harga setelah diskon: Rp {total_harga:.2f}\")"
   ]
  },
  {
   "cell_type": "markdown",
   "metadata": {},
   "source": [
    "**Soal 2**: Seorang siswa ingin menentukan apakah dia mendapatkan beasiswa. Jika 3 angka terakhir NIM Anda genap, syaratnya nilai >= 85. Jika ganjil, syaratnya nilai >= 80. Buat program untuk menentukan hasilnya."
   ]
  },
  {
   "cell_type": "code",
   "execution_count": null,
   "metadata": {},
   "outputs": [
    {
     "name": "stdout",
     "output_type": "stream",
     "text": [
      "Maaf, Anda belum memenuhi syarat untuk beasiswa. 😢\n"
     ]
    }
   ],
   "source": [
    "nim = 66\n",
    "nilai = 70\n",
    "\n",
    "if nim % 2 == 0:\n",
    "    syarat_nilai = 85  \n",
    "else:\n",
    "    syarat_nilai = 80  \n",
    "\n",
    "if nilai >= syarat_nilai:\n",
    "    print(\"Selamat! Anda mendapatkan beasiswa. 🎉\")\n",
    "else:\n",
    "    print(\"Maaf, Anda belum memenuhi syarat untuk beasiswa. 😢\")\n"
   ]
  },
  {
   "cell_type": "markdown",
   "metadata": {},
   "source": [
    "**Soal 3**: Sebuah toko online memberikan diskon 15% jika total belanja di atas Rp 300.000 dikurangi 3 angka terakhir NIM Anda. Buat program untuk menghitung total harga."
   ]
  },
  {
   "cell_type": "code",
   "execution_count": null,
   "metadata": {},
   "outputs": [
    {
     "name": "stdout",
     "output_type": "stream",
     "text": [
      "Diskon yang diberikan: 15.0%\n",
      "Total harga setelah diskon: Rp 1105000.00\n"
     ]
    }
   ],
   "source": [
    "total_belanja = 1300000\n",
    "nim = 66\n",
    "\n",
    "if total_belanja > 300000:\n",
    "    diskon = 0.15  \n",
    "else:\n",
    "    diskon = 0 \n",
    "\n",
    "total_setelah_diskon = total_belanja - (total_belanja * diskon)\n",
    "print(f\"Diskon yang diberikan: {diskon * 100}%\")\n",
    "print(f\"Total harga setelah diskon: Rp {total_setelah_diskon:.2f}\")\n"
   ]
  },
  {
   "cell_type": "markdown",
   "metadata": {},
   "source": [
    "**Soal 4**: Seorang karyawan mendapatkan bonus jika bekerja lebih dari 50 jam. Bonusnya adalah 15% dari gaji ditambah 3 angka terakhir NIM Anda. Buat program untuk menghitung gaji karyawan."
   ]
  },
  {
   "cell_type": "code",
   "execution_count": null,
   "metadata": {},
   "outputs": [
    {
     "name": "stdout",
     "output_type": "stream",
     "text": [
      "Bonus yang diberikan: Rp 0.00\n",
      "Total gaji yang diterima: Rp 10000000.00\n"
     ]
    }
   ],
   "source": [
    "jam_kerja = 12\n",
    "gaji_pokok = 10000000\n",
    "nim = 66\n",
    "\n",
    "if jam_kerja > 50:\n",
    "    bonus = (0.15 * gaji_pokok) + nim\n",
    "else:\n",
    "    bonus = 0  \n",
    "\n",
    "total_gaji = gaji_pokok + bonus\n",
    "print(f\"Bonus yang diberikan: Rp {bonus:.2f}\")\n",
    "print(f\"Total gaji yang diterima: Rp {total_gaji:.2f}\")\n"
   ]
  },
  {
   "cell_type": "markdown",
   "metadata": {},
   "source": [
    "**Soal 5**: Sebuah restoran memberikan diskon 10% untuk pesanan di atas Rp 100.000 ditambah 3 angka terakhir NIM Anda. Buat program untuk menghitung total biaya."
   ]
  },
  {
   "cell_type": "code",
   "execution_count": null,
   "metadata": {},
   "outputs": [
    {
     "name": "stdout",
     "output_type": "stream",
     "text": [
      "Diskon yang diberikan: Rp 50066.00\n",
      "Total biaya setelah diskon: Rp 449934.00\n"
     ]
    }
   ],
   "source": [
    "total_pesanan = 500000\n",
    "nim = 66\n",
    "\n",
    "if total_pesanan > 100000:\n",
    "    diskon = (0.10 * total_pesanan) + nim\n",
    "else:\n",
    "    diskon = 0 \n",
    "\n",
    "total_biaya = total_pesanan - diskon\n",
    "total_biaya = max(total_biaya, 0)\n",
    "print(f\"Diskon yang diberikan: Rp {diskon:.2f}\")\n",
    "print(f\"Total biaya setelah diskon: Rp {total_biaya:.2f}\")\n"
   ]
  },
  {
   "cell_type": "markdown",
   "metadata": {},
   "source": [
    "**Soal 6**: Seorang pelari ingin menentukan apakah dia berhasil memenuhi target latihan. Jika jarak lari > (3 angka terakhir NIM Anda % 10) km, dia berhasil. Buat program untuk menentukan hasil latihannya."
   ]
  },
  {
   "cell_type": "code",
   "execution_count": null,
   "metadata": {},
   "outputs": [
    {
     "name": "stdout",
     "output_type": "stream",
     "text": [
      "Selamat! Anda berhasil mencapai target latihan (6 km). 🎉\n"
     ]
    }
   ],
   "source": [
    "jarak_lari = 12\n",
    "nim = 66 \n",
    "\n",
    "target_km = (nim % 1000) % 10\n",
    "\n",
    "if jarak_lari > target_km:\n",
    "    print(f\"Selamat! Anda berhasil mencapai target latihan ({target_km} km). 🎉\")\n",
    "else:\n",
    "    print(f\"Maaf, Anda belum mencapai target latihan ({target_km} km). Tetap semangat! 💪\")\n"
   ]
  },
  {
   "cell_type": "markdown",
   "metadata": {},
   "source": [
    "**Soal 7**: Sebuah bioskop memberikan diskon 50% untuk pelajar jika 3 angka terakhir NIM Anda genap. Jika ganjil, diskon 25%. Buat program untuk menentukan harga tiket."
   ]
  },
  {
   "cell_type": "code",
   "execution_count": null,
   "metadata": {},
   "outputs": [
    {
     "name": "stdout",
     "output_type": "stream",
     "text": [
      "Diskon yang diberikan: 50%\n",
      "Harga tiket setelah diskon: Rp 50000.00\n"
     ]
    }
   ],
   "source": [
    "harga_tiket = 100000\n",
    "nim = 66\n",
    "\n",
    "if nim % 2 == 0:\n",
    "    diskon = 0.50  \n",
    "else:\n",
    "    diskon = 0.25  \n",
    "\n",
    "harga_setelah_diskon = harga_tiket - (harga_tiket * diskon)\n",
    "print(f\"Diskon yang diberikan: {int(diskon * 100)}%\")\n",
    "print(f\"Harga tiket setelah diskon: Rp {harga_setelah_diskon:.2f}\")\n"
   ]
  },
  {
   "cell_type": "markdown",
   "metadata": {},
   "source": [
    "**Soal 8**: Sebuah toko buku memberikan diskon 25% jika pelanggan membeli lebih dari 10 buku dan 3 angka terakhir NIM Anda > 400. Jika tidak, diskon 15%. Buat program untuk menghitung total harga."
   ]
  },
  {
   "cell_type": "code",
   "execution_count": null,
   "metadata": {},
   "outputs": [
    {
     "name": "stdout",
     "output_type": "stream",
     "text": [
      "Diskon yang diberikan: 15%\n",
      "Total harga setelah diskon: Rp 7480000.00\n"
     ]
    }
   ],
   "source": [
    "jumlah_buku = 100\n",
    "harga_per_buku = 88000\n",
    "nim = 66\n",
    "\n",
    "if jumlah_buku > 10 and nim > 400:\n",
    "    diskon = 0.25 \n",
    "else:\n",
    "    diskon = 0.15  \n",
    "\n",
    "total_harga = jumlah_buku * harga_per_buku\n",
    "harga_setelah_diskon = total_harga - (total_harga * diskon)\n",
    "print(f\"Diskon yang diberikan: {int(diskon * 100)}%\")\n",
    "print(f\"Total harga setelah diskon: Rp {harga_setelah_diskon:.2f}\")"
   ]
  },
  {
   "cell_type": "markdown",
   "metadata": {},
   "source": [
    "**Soal 9**: Seorang mahasiswa ingin menentukan apakah suatu bilangan positif, negatif, atau nol. Jika 3 angka terakhir NIM Anda genap, cetak \"Positif\". Jika ganjil, cetak \"Negatif\"."
   ]
  },
  {
   "cell_type": "code",
   "execution_count": null,
   "metadata": {},
   "outputs": [
    {
     "name": "stdout",
     "output_type": "stream",
     "text": [
      "Positif\n"
     ]
    }
   ],
   "source": [
    "nim = 66\n",
    "\n",
    "if nim % 2 == 0:\n",
    "    print(\"Positif\")\n",
    "else:\n",
    "    print(\"Negatif\")\n"
   ]
  },
  {
   "cell_type": "markdown",
   "metadata": {},
   "source": [
    "**Soal 10**: Sebuah aplikasi menentukan apakah suatu bilangan adalah bilangan Armstrong. Jika 3 angka terakhir NIM Anda genap, cetak \"Armstrong\". Jika ganjil, cetak \"Bukan Arms"
   ]
  },
  {
   "cell_type": "code",
   "execution_count": null,
   "metadata": {},
   "outputs": [
    {
     "name": "stdout",
     "output_type": "stream",
     "text": [
      "Armstrong\n"
     ]
    }
   ],
   "source": [
    "nim = 66\n",
    "\n",
    "if nim % 2 == 0:\n",
    "    print(\"Armstrong\")\n",
    "else:\n",
    "    print(\"Bukan Armstrong\")\n"
   ]
  },
  {
   "cell_type": "markdown",
   "metadata": {},
   "source": [
    "**Soal 11**: Seorang pelanggan ingin mencetak daftar belanjaannya sebanyak (3 angka terakhir NIM Anda % 7) kali. Buat program untuk mencetak daftar belanja tersebut."
   ]
  },
  {
   "cell_type": "code",
   "execution_count": null,
   "metadata": {},
   "outputs": [
    {
     "name": "stdout",
     "output_type": "stream",
     "text": [
      "daftar belanjaan ke-1: kambing, ayam, sapi, kerbau, dan ikan\n",
      "daftar belanjaan ke-2: kambing, ayam, sapi, kerbau, dan ikan\n",
      "daftar belanjaan ke-3: kambing, ayam, sapi, kerbau, dan ikan\n"
     ]
    }
   ],
   "source": [
    "daftar_belanja = \"kambing, ayam, sapi, kerbau, dan ikan\"\n",
    "nim = 66\n",
    "\n",
    "jumlah_cetak = nim % 7\n",
    "\n",
    "for i in range(jumlah_cetak):\n",
    "    print(f\"daftar belanjaan ke-{i+1}: {daftar_belanja}\")\n"
   ]
  },
  {
   "cell_type": "markdown",
   "metadata": {},
   "source": [
    "**Soal 12**: Seorang guru ingin mencetak angka dari 1 sampai 50, tetapi hanya bilangan kelipatan (3 angka terakhir NIM Anda % 6). Buat program untuk mencetak bilangan tersebut."
   ]
  },
  {
   "cell_type": "code",
   "execution_count": null,
   "metadata": {},
   "outputs": [
    {
     "name": "stdout",
     "output_type": "stream",
     "text": [
      "Bilangan kelipatan 1 dari 1 sampai 50:\n",
      "1 2 3 4 5 6 7 8 9 10 11 12 13 14 15 16 17 18 19 20 21 22 23 24 25 26 27 28 29 30 31 32 33 34 35 36 37 38 39 40 41 42 43 44 45 46 47 48 49 50 "
     ]
    }
   ],
   "source": [
    "nim = 66\n",
    "\n",
    "kelipatan = nim % 6\n",
    "\n",
    "if kelipatan == 0:\n",
    "    kelipatan = 1  \n",
    "\n",
    "print(f\"Bilangan kelipatan {kelipatan} dari 1 sampai 50:\")\n",
    "for i in range(1, 51):\n",
    "    print(i, end=\" \")"
   ]
  },
  {
   "cell_type": "markdown",
   "metadata": {},
   "source": [
    "**Soal 13**: Seorang penjual ingin mencetak tabel perkalian (3 angka terakhir NIM Anda % 8). Buat program untuk mencetak tabel tersebut."
   ]
  },
  {
   "cell_type": "code",
   "execution_count": null,
   "metadata": {},
   "outputs": [
    {
     "name": "stdout",
     "output_type": "stream",
     "text": [
      "Tabel Perkalian 2:\n",
      "2 x 1 = 2\n",
      "2 x 2 = 4\n",
      "2 x 3 = 6\n",
      "2 x 4 = 8\n",
      "2 x 5 = 10\n",
      "2 x 6 = 12\n",
      "2 x 7 = 14\n",
      "2 x 8 = 16\n",
      "2 x 9 = 18\n",
      "2 x 10 = 20\n"
     ]
    }
   ],
   "source": [
    "nim = 66\n",
    "\n",
    "angka = nim % 8\n",
    "\n",
    "if angka == 0:\n",
    "    angka = 1\n",
    "\n",
    "print(f\"Tabel Perkalian {angka}:\")\n",
    "for i in range(1, 11):\n",
    "    print(f\"{angka} x {i} = {angka * i}\")\n"
   ]
  },
  {
   "cell_type": "markdown",
   "metadata": {},
   "source": [
    "**Soal 14**: Seorang pelukis ingin mencetak pola bintang persegi dengan sisi (3 angka terakhir NIM Anda % 5). Buat program untuk mencetak pola tersebut."
   ]
  },
  {
   "cell_type": "code",
   "execution_count": null,
   "metadata": {},
   "outputs": [
    {
     "name": "stdout",
     "output_type": "stream",
     "text": [
      "Pola bintang persegi dengan sisi 1:\n",
      "* \n"
     ]
    }
   ],
   "source": [
    "nim = 66\n",
    "\n",
    "ukuran_sisi = nim % 5\n",
    "\n",
    "if ukuran_sisi == 0:\n",
    "    ukuran_sisi = 3\n",
    "\n",
    "print(f\"Pola bintang persegi dengan sisi {ukuran_sisi}:\")\n",
    "for i in range(ukuran_sisi):\n",
    "    print(\"* \" * ukuran_sisi)\n"
   ]
  },
  {
   "cell_type": "markdown",
   "metadata": {},
   "source": [
    "**Soal 15**: Seorang peneliti ingin mencetak bilangan komposit dari 1 sampai (3 angka terakhir NIM Anda). Buat program untuk mencetak bilangan tersebut."
   ]
  },
  {
   "cell_type": "code",
   "execution_count": null,
   "metadata": {},
   "outputs": [
    {
     "name": "stdout",
     "output_type": "stream",
     "text": [
      "\n",
      "Bilangan komposit dari 1 sampai 66:\n",
      "\n",
      "4 6 8 9 10 12 14 15 16 18 20 21 22 24 25 26 27 28 30 32 33 34 35 36 38 39 40 42 44 45 46 48 49 50 51 52 54 55 56 57 58 60 62 63 64 65 66 "
     ]
    }
   ],
   "source": [
    "nim = 66\n",
    "\n",
    "batas = nim % 1000\n",
    "\n",
    "def is_komposit(n):\n",
    "    if n < 2:\n",
    "        return False  \n",
    "    faktor = 0\n",
    "    for i in range(1, n + 1):\n",
    "        if n % i == 0:\n",
    "            faktor += 1\n",
    "    return faktor > 2  \n",
    "\n",
    "print(f\"\\nBilangan komposit dari 1 sampai {batas}:\\n\")\n",
    "for i in range(1, batas + 1):\n",
    "    if is_komposit(i):\n",
    "        print(i, end=\" \")\n"
   ]
  },
  {
   "cell_type": "markdown",
   "metadata": {},
   "source": [
    "**Soal 16**: Seorang programmer ingin mencetak deret kuadrat dari 1 sampai (3 angka terakhir NIM Anda % 10). Buat program untuk mencetak deret tersebut."
   ]
  },
  {
   "cell_type": "code",
   "execution_count": null,
   "metadata": {},
   "outputs": [
    {
     "name": "stdout",
     "output_type": "stream",
     "text": [
      "\n",
      "Deret kuadrat dari 1 sampai 6:\n",
      "\n",
      "1^2 = 1\n",
      "2^2 = 4\n",
      "3^2 = 9\n",
      "4^2 = 16\n",
      "5^2 = 25\n",
      "6^2 = 36\n"
     ]
    }
   ],
   "source": [
    "nim = 66\n",
    "\n",
    "batas = nim % 10\n",
    "\n",
    "if batas == 0:\n",
    "    batas = 5\n",
    "\n",
    "print(f\"\\nDeret kuadrat dari 1 sampai {batas}:\\n\")\n",
    "for i in range(1, batas + 1):\n",
    "    print(f\"{i}^2 = {i**2}\")\n"
   ]
  },
  {
   "cell_type": "markdown",
   "metadata": {},
   "source": [
    "**Soal 17**: Seorang petani ingin mencetak bilangan kelipatan (3 angka terakhir NIM Anda % 7) dari 1 sampai 100. Buat program untuk mencetak bilangan tersebut."
   ]
  },
  {
   "cell_type": "code",
   "execution_count": null,
   "metadata": {},
   "outputs": [
    {
     "name": "stdout",
     "output_type": "stream",
     "text": [
      "\n",
      "Bilangan kelipatan 3 dari 1 sampai 100:\n",
      "\n",
      "3 6 9 12 15 18 21 24 27 30 33 36 39 42 45 48 51 54 57 60 63 66 69 72 75 78 81 84 87 90 93 96 99 "
     ]
    }
   ],
   "source": [
    "nim = 66\n",
    "\n",
    "kelipatan = nim % 7\n",
    "\n",
    "if kelipatan == 0:\n",
    "    kelipatan = 1\n",
    "\n",
    "print(f\"\\nBilangan kelipatan {kelipatan} dari 1 sampai 100:\\n\")\n",
    "for i in range(kelipatan, 101, kelipatan):\n",
    "    print(i, end=\" \")\n"
   ]
  },
  {
   "cell_type": "markdown",
   "metadata": {},
   "source": [
    "**Soal 18**: Seorang siswa ingin mencetak bilangan genap dari 2 sampai (3 angka terakhir NIM Anda). Buat program untuk mencetak bilangan tersebut."
   ]
  },
  {
   "cell_type": "code",
   "execution_count": null,
   "metadata": {},
   "outputs": [
    {
     "name": "stdout",
     "output_type": "stream",
     "text": [
      "\n",
      "Bilangan genap dari 2 sampai 66:\n",
      "\n",
      "2 4 6 8 10 12 14 16 18 20 22 24 26 28 30 32 34 36 38 40 42 44 46 48 50 52 54 56 58 60 62 64 66 "
     ]
    }
   ],
   "source": [
    "nim = 66\n",
    "\n",
    "batas = nim % 1000\n",
    "\n",
    "print(f\"\\nBilangan genap dari 2 sampai {batas}:\\n\")\n",
    "for i in range(2, batas + 1, 2):\n",
    "    print(i, end=\" \")\n"
   ]
  },
  {
   "cell_type": "markdown",
   "metadata": {},
   "source": [
    "**Soal 19**: Seorang penjual ingin mencetak faktorial dari (3 angka terakhir NIM Anda % 6). Buat program untuk mencetak faktorial tersebut."
   ]
  },
  {
   "cell_type": "code",
   "execution_count": 2,
   "metadata": {},
   "outputs": [
    {
     "name": "stdout",
     "output_type": "stream",
     "text": [
      "\n",
      "Faktorial dari 1 adalah 1\n"
     ]
    }
   ],
   "source": [
    "import math\n",
    "nim = 66\n",
    "\n",
    "angka_faktorial = nim % 6\n",
    "\n",
    "if angka_faktorial == 0:\n",
    "    angka_faktorial = 1\n",
    "\n",
    "hasil_faktorial = math.factorial(angka_faktorial)\n",
    "print(f\"\\nFaktorial dari {angka_faktorial} adalah {hasil_faktorial}\")\n"
   ]
  },
  {
   "cell_type": "markdown",
   "metadata": {},
   "source": [
    "**Soal 20**: Seorang pelanggan ingin mencetak \"Selamat Datang\" sebanyak (3 angka terakhir NIM Anda % 4) kali. Buat program untuk mencetak pesan tersebut."
   ]
  },
  {
   "cell_type": "code",
   "execution_count": 15,
   "metadata": {},
   "outputs": [
    {
     "name": "stdout",
     "output_type": "stream",
     "text": [
      "\n",
      "Pesan Selamat Datang:\n",
      "\n",
      "1. Selamat Datang! 🎉\n",
      "2. Selamat Datang! 🎉\n"
     ]
    }
   ],
   "source": [
    "nim = 66\n",
    "\n",
    "jumlah_pengulangan = (nim % 1000) % 4\n",
    "\n",
    "if jumlah_pengulangan == 0:\n",
    "    jumlah_pengulangan = 2\n",
    "\n",
    "print(\"\\nPesan Selamat Datang:\\n\")\n",
    "for i in range(jumlah_pengulangan):\n",
    "    print(f\"{i+1}. Selamat Datang! 🎉\")\n"
   ]
  }
 ],
 "metadata": {
  "kernelspec": {
   "display_name": "Python 3",
   "language": "python",
   "name": "python3"
  },
  "language_info": {
   "codemirror_mode": {
    "name": "ipython",
    "version": 3
   },
   "file_extension": ".py",
   "mimetype": "text/x-python",
   "name": "python",
   "nbconvert_exporter": "python",
   "pygments_lexer": "ipython3",
   "version": "3.13.2"
  }
 },
 "nbformat": 4,
 "nbformat_minor": 2
}
